{
 "cells": [
  {
   "cell_type": "code",
   "execution_count": 131,
   "metadata": {},
   "outputs": [
    {
     "name": "stdout",
     "output_type": "stream",
     "text": [
      "['C', 'H', 'C', 'H', 'C', 'H', 'C', 'H', 'C', 'H', 'C', 'H']\n",
      "[[0.0, 1.40272, 0.0], [0.0, 2.49029, 0.0], [-1.21479, 0.70136, 0.0], [-2.15666, 1.24515, 0.0], [-1.21479, -0.70136, 0.0], [-2.15666, -1.24515, 0.0], [0.0, -1.40272, 0.0], [0.0, -2.49029, 0.0], [1.21479, -0.70136, 0.0], [2.15666, -1.24515, 0.0], [1.21479, 0.70136, 0.0], [2.15666, 1.24515, 0.0]]\n"
     ]
    }
   ],
   "source": [
    "import os\n",
    "xyz_file = os.path.join('data','benzene.xyz')\n",
    "outfile = open(xyz_file, 'r')\n",
    "data = outfile.readlines()\n",
    "outfile.close()\n",
    "waterdata = data[2:]\n",
    "coords = []\n",
    "symbols = []\n",
    "for i in range(0,len(waterdata)):\n",
    "    coords.append(waterdata[i].split())\n",
    "    symbols.append(coords[i][0])\n",
    "print(symbols)\n",
    "for i in range(0,len(waterdata)):\n",
    "    for y in range(1,4):\n",
    "        coords[i][y] = float(coords[i][y])\n",
    "    coords[i] = coords[i][1:]\n",
    "print(coords)\n"
   ]
  },
  {
   "cell_type": "code",
   "execution_count": 126,
   "metadata": {},
   "outputs": [],
   "source": [
    "import numpy"
   ]
  },
  {
   "cell_type": "code",
   "execution_count": 127,
   "metadata": {},
   "outputs": [],
   "source": [
    "def calculate_distance(atom1,atom2):\n",
    "    x_distance = atom1[0]-atom2[0]\n",
    "    y_distance = atom1[1]-atom2[1]\n",
    "    z_distance = atom1[2]-atom2[2]\n",
    "    distance = numpy.sqrt(x_distance**2+y_distance**2+z_distance**2)\n",
    "    return distance"
   ]
  },
  {
   "cell_type": "code",
   "execution_count": 128,
   "metadata": {},
   "outputs": [],
   "source": [
    "def bond_check(bond_distance,min=0,max=1.5):\n",
    "    if bond_distance > min and bond_distance < max:\n",
    "        is_a_bond = True\n",
    "    else:\n",
    "        is_a_bond = False\n",
    "    return is_a_bond"
   ]
  },
  {
   "cell_type": "code",
   "execution_count": 129,
   "metadata": {},
   "outputs": [
    {
     "name": "stdout",
     "output_type": "stream",
     "text": [
      "H to C : 1.088\n",
      "C to C : 1.403\n",
      "H to C : 1.088\n",
      "C to C : 1.403\n",
      "H to C : 1.088\n",
      "C to C : 1.403\n",
      "H to C : 1.088\n",
      "C to C : 1.403\n",
      "H to C : 1.088\n",
      "C to C : 1.403\n",
      "C to C : 1.403\n",
      "H to C : 1.088\n"
     ]
    }
   ],
   "source": [
    "import numpy\n",
    "for numA, atomA in enumerate(coords):\n",
    "    for numB, atomB in enumerate(coords):\n",
    "        if numB<numA:\n",
    "            distance_AB = calculate_distance(atomA, atomB)\n",
    "            if bond_check(distance_AB,max=1.6):\n",
    "                print(F'{symbols[numA]} to {symbols[numB]} : {distance_AB:.3f}')"
   ]
  },
  {
   "cell_type": "code",
   "execution_count": 130,
   "metadata": {},
   "outputs": [],
   "source": [
    "def function_name(parameters):\n",
    "    #lines of code\n",
    "    #more lines!\n",
    "    #lines\n",
    "    return value_to_return"
   ]
  },
  {
   "cell_type": "code",
   "execution_count": null,
   "metadata": {},
   "outputs": [],
   "source": []
  },
  {
   "cell_type": "code",
   "execution_count": null,
   "metadata": {},
   "outputs": [],
   "source": []
  },
  {
   "cell_type": "code",
   "execution_count": null,
   "metadata": {},
   "outputs": [],
   "source": []
  }
 ],
 "metadata": {
  "kernelspec": {
   "display_name": "Python 3",
   "language": "python",
   "name": "python3"
  },
  "language_info": {
   "codemirror_mode": {
    "name": "ipython",
    "version": 3
   },
   "file_extension": ".py",
   "mimetype": "text/x-python",
   "name": "python",
   "nbconvert_exporter": "python",
   "pygments_lexer": "ipython3",
   "version": "3.7.3"
  }
 },
 "nbformat": 4,
 "nbformat_minor": 2
}
